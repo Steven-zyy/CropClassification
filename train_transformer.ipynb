{
 "cells": [
  {
   "cell_type": "markdown",
   "source": [
    "## Setup environment"
   ],
   "metadata": {}
  },
  {
   "cell_type": "code",
   "execution_count": 4,
   "source": [
    "import numpy as np\n",
    "import torch\n",
    "import argparse\n",
    "from torch.utils.data.sampler import RandomSampler, SequentialSampler\n",
    "import torch.optim as optim"
   ],
   "outputs": [],
   "metadata": {}
  },
  {
   "cell_type": "markdown",
   "source": [
    "## Input requriement files"
   ],
   "metadata": {}
  },
  {
   "cell_type": "code",
   "execution_count": 13,
   "source": [
    "from TransformerEncoder import TransformerEncoder\n",
    "from dataset import Dataset\n"
   ],
   "outputs": [],
   "metadata": {}
  },
  {
   "cell_type": "markdown",
   "source": [
    "## Prepare dataset"
   ],
   "metadata": {}
  },
  {
   "cell_type": "code",
   "execution_count": 8,
   "source": [
    "path = \"/Users/stevenzhu/Downloads/ZueriCrop.hdf5\"\n",
    "fold_num = None\n",
    "gt_path = '/Users/stevenzhu/Downloads/labels.csv'\n",
    "input_dim = None\n",
    "apply_cm = None\n",
    "\n",
    "traindataset = Dataset(path, 0., 'train', False, fold_num, gt_path, num_channel=input_dim, apply_cloud_masking=apply_cm)\n",
    "testdataset = Dataset(path, 0., 'test', True, fold_num, gt_path, num_channel=input_dim, apply_cloud_masking=apply_cm)\n"
   ],
   "outputs": [
    {
     "output_type": "stream",
     "name": "stdout",
     "text": [
      "Dataset size:  27977\n",
      "Valid dataset size:  20982\n",
      "Sequence length:  71\n",
      "Spatial size:  (24, 24)\n",
      "Number of classes:  52\n",
      "Number of classes - local-1:  6\n",
      "Number of classes - local-2:  20\n",
      "Dataset size:  27977\n",
      "Valid dataset size:  6995\n",
      "Sequence length:  71\n",
      "Spatial size:  (24, 24)\n",
      "Number of classes:  52\n",
      "Number of classes - local-1:  6\n",
      "Number of classes - local-2:  20\n"
     ]
    }
   ],
   "metadata": {}
  },
  {
   "cell_type": "code",
   "execution_count": 15,
   "source": [
    "traindataset.shape()"
   ],
   "outputs": [
    {
     "output_type": "error",
     "ename": "AttributeError",
     "evalue": "'Dataset' object has no attribute 'shape'",
     "traceback": [
      "\u001b[0;31m---------------------------------------------------------------------------\u001b[0m",
      "\u001b[0;31mAttributeError\u001b[0m                            Traceback (most recent call last)",
      "\u001b[0;32m/var/folders/34/pch71ggj3f36r_rzg86ymb_m0000gn/T/ipykernel_13359/3540486035.py\u001b[0m in \u001b[0;36m<module>\u001b[0;34m\u001b[0m\n\u001b[0;32m----> 1\u001b[0;31m \u001b[0mtraindataset\u001b[0m\u001b[0;34m.\u001b[0m\u001b[0mshape\u001b[0m\u001b[0;34m(\u001b[0m\u001b[0;34m)\u001b[0m\u001b[0;34m\u001b[0m\u001b[0;34m\u001b[0m\u001b[0m\n\u001b[0m",
      "\u001b[0;31mAttributeError\u001b[0m: 'Dataset' object has no attribute 'shape'"
     ]
    }
   ],
   "metadata": {}
  },
  {
   "cell_type": "markdown",
   "source": [
    "## Input parameters"
   ],
   "metadata": {}
  },
  {
   "cell_type": "code",
   "execution_count": null,
   "source": [],
   "outputs": [],
   "metadata": {}
  },
  {
   "cell_type": "markdown",
   "source": [
    "## Start train"
   ],
   "metadata": {}
  },
  {
   "cell_type": "code",
   "execution_count": null,
   "source": [
    "model = TransformerEncoder(in_channels=args.input_dims, len_max_seq=len_max_seq,\n",
    "            d_word_vec=hidden_dims, d_model=hidden_dims, d_inner=d_inner,\n",
    "            n_layers=n_layers, n_head=n_heads, d_k=hidden_dims//n_heads, d_v=hidden_dims//n_heads,\n",
    "            dropout=dropout, nclasses=args.nclasses)"
   ],
   "outputs": [],
   "metadata": {}
  },
  {
   "cell_type": "code",
   "execution_count": null,
   "source": [],
   "outputs": [],
   "metadata": {}
  }
 ],
 "metadata": {
  "orig_nbformat": 4,
  "language_info": {
   "name": "python",
   "version": "3.8.11",
   "mimetype": "text/x-python",
   "codemirror_mode": {
    "name": "ipython",
    "version": 3
   },
   "pygments_lexer": "ipython3",
   "nbconvert_exporter": "python",
   "file_extension": ".py"
  },
  "kernelspec": {
   "name": "python3",
   "display_name": "Python 3.8.11 64-bit ('Capstone': conda)"
  },
  "interpreter": {
   "hash": "01d07a12c199c2baec792f1c4df1a2c7e01e4755325cc3c2c017772e38be4a45"
  }
 },
 "nbformat": 4,
 "nbformat_minor": 2
}